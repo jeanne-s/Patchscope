{
 "cells": [
  {
   "cell_type": "code",
   "execution_count": null,
   "metadata": {},
   "outputs": [
    {
     "ename": "",
     "evalue": "",
     "output_type": "error",
     "traceback": [
      "\u001b[1;31mRunning cells with 'Python 3.8.10' requires the ipykernel package.\n",
      "\u001b[1;31mRun the following command to install 'ipykernel' into the Python environment. \n",
      "\u001b[1;31mCommand: '/usr/bin/python3 -m pip install ipykernel -U --user --force-reinstall'"
     ]
    }
   ],
   "source": [
    "from attribute_extraction import AttributeExtraction"
   ]
  },
  {
   "cell_type": "code",
   "execution_count": null,
   "metadata": {},
   "outputs": [],
   "source": [
    "attribute_extraction_example = AttributeExtraction(source_model_name=\"gpt2\",\n",
    "                                                   target_model_name=\"gpt2\",\n",
    "                                                   input_prompt=\"Amazon's former CEO attended Oscars\",\n",
    "                                                   target_prompt=\"cat->cat; 135->135; hello->hello; ?->\",\n",
    "                                                   source_str_token=\" CEO\",\n",
    "                                                   source_layers_ids=[i for i in range(0,12)],\n",
    "                                                   target_layers_ids=[i for i in range(0,12)])\n",
    "\n",
    "\n",
    "logits = attribute_extraction_example.patch_target_model_multiple_layers()"
   ]
  }
 ],
 "metadata": {
  "kernelspec": {
   "display_name": "p11",
   "language": "python",
   "name": "python3"
  },
  "language_info": {
   "codemirror_mode": {
    "name": "ipython",
    "version": 3
   },
   "file_extension": ".py",
   "mimetype": "text/x-python",
   "name": "python",
   "nbconvert_exporter": "python",
   "pygments_lexer": "ipython3",
   "version": "3.8.10"
  }
 },
 "nbformat": 4,
 "nbformat_minor": 2
}
